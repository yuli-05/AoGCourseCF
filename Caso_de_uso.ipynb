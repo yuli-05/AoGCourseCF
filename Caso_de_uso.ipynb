{
  "nbformat": 4,
  "nbformat_minor": 0,
  "metadata": {
    "colab": {
      "provenance": [],
      "mount_file_id": "1NoNJKo4TDUaGz9K9QNrfVCNc5ThZoRMG",
      "authorship_tag": "ABX9TyOQ5BZ2i6wBgV04COzzCIqH",
      "include_colab_link": true
    },
    "kernelspec": {
      "name": "python3",
      "display_name": "Python 3"
    },
    "language_info": {
      "name": "python"
    }
  },
  "cells": [
    {
      "cell_type": "markdown",
      "metadata": {
        "id": "view-in-github",
        "colab_type": "text"
      },
      "source": [
        "<a href=\"https://colab.research.google.com/github/yuli-05/AoGCourseCF/blob/master/Caso_de_uso.ipynb\" target=\"_parent\"><img src=\"https://colab.research.google.com/assets/colab-badge.svg\" alt=\"Open In Colab\"/></a>"
      ]
    },
    {
      "cell_type": "code",
      "execution_count": null,
      "metadata": {
        "colab": {
          "base_uri": "https://localhost:8080/"
        },
        "id": "BGV5SvEf5RXS",
        "outputId": "ec035a62-bff0-4c67-c8cb-483cb0a3783d"
      },
      "outputs": [
        {
          "output_type": "stream",
          "name": "stdout",
          "text": [
            "\n",
            "Resultados de la programación de citas:\n",
            "     Numero_Solicitud             Nombre  Tiempo_Estimado  Tiempo_Espera\n",
            "0                  33       Martín Pérez               10              0\n",
            "1                  43    Carmen Palacios               10             10\n",
            "2                 166     Pablo Quintero               11             20\n",
            "3                  62      Pedro Morales               13             31\n",
            "4                  71       Alfredo Nava               13             44\n",
            "..                ...                ...              ...            ...\n",
            "195                22  Mariana Maldonado              117          12512\n",
            "196                40   Francisco Campos              117          12629\n",
            "197                50   Cristina Navarro              118          12746\n",
            "198               110  Mónica Villanueva              118          12864\n",
            "199               174     Eduardo Rivera              119          12982\n",
            "\n",
            "[200 rows x 4 columns]\n",
            "\n",
            "Los datos ordenados han sido guardados en 'datos_ordenados.csv'.\n"
          ]
        }
      ],
      "source": [
        "import pandas as pd\n",
        "\n",
        "# Cargar archivo de datos\n",
        "datos = pd.read_csv(\"/content/datos_request.csv\")\n",
        "\n",
        "# Renombrar columnas para facilitar su uso\n",
        "datos.rename(columns={\n",
        "    \"No. de Solicitud\": \"Numero_Solicitud\",\n",
        "    \"Nombre\": \"Nombre\",\n",
        "    \"Apellido\": \"Apellido\",\n",
        "    \"Tiempo estimado (min)\": \"Tiempo_Estimado\"\n",
        "}, inplace=True)\n",
        "\n",
        "# Validación: Pedir un nuevo tiempo si hay valores negativos o mayores a 120 minutos\n",
        "for index, row in datos.iterrows():\n",
        "    while row[\"Tiempo_Estimado\"] > 120 or row[\"Tiempo_Estimado\"] < 0:\n",
        "        print(f\" Error: {row['Nombre']} {row['Apellido']} ingresó un tiempo de {row['Tiempo_Estimado']} min (fuera del rango permitido).\")\n",
        "        nuevo_tiempo = int(input(f\"Ingrese un nuevo tiempo válido (entre 0 y 120 min) para {row['Nombre']} {row['Apellido']}: \"))\n",
        "        datos.at[index, \"Tiempo_Estimado\"] = nuevo_tiempo  # Se actualiza el valor corregido\n",
        "        row[\"Tiempo_Estimado\"] = nuevo_tiempo  # Para que se valide correctamente en el bucle\n",
        "\n",
        "\n",
        "# Ordenar por tiempo estimado\n",
        "#Se ordenan las solicitudes de menor a mayor tiempo estimado.\n",
        "#Objetivo: Atender primero las solicitudes con tiempos menores para reducir la espera acumulada.\n",
        "# Ordenar primero por tiempo estimado y luego por número de solicitud\n",
        "datos = datos.sort_values(by=[\"Tiempo_Estimado\", \"Numero_Solicitud\"])\n",
        "\n",
        "\n",
        "#tiempo_actual: Lleva el control del tiempo en que cada solicitud empieza a ser atendida.\n",
        "#tiempo_espera_total: Suma de los tiempos de espera de todos los ciudadanos.\n",
        "#resultados: Lista donde se almacenan los datos procesados.\n",
        "tiempo_actual = 0\n",
        "tiempo_espera_total = 0\n",
        "resultados = []\n",
        "\n",
        "#Cálculo del tiempo de espera:\n",
        "\n",
        "#La primera persona tiene tiempo_espera = 0 porque es atendida inmediatamente.\n",
        "#Cada persona siguiente espera el tiempo acumulado de las citas previas.\n",
        "\n",
        "for index, row in datos.iterrows():\n",
        "    tiempo_espera = tiempo_actual  # Tiempo de espera antes de ser atendido\n",
        "    tiempo_espera_total += tiempo_espera  # Acumulamos tiempos de espera\n",
        "\n",
        "    resultados.append({\n",
        "        \"Numero_Solicitud\": row[\"Numero_Solicitud\"],\n",
        "        \"Nombre\": row[\"Nombre\"] + \" \" + row[\"Apellido\"],\n",
        "        \"Tiempo_Estimado\": row[\"Tiempo_Estimado\"],\n",
        "        \"Tiempo_Espera\": tiempo_espera\n",
        "    })\n",
        "\n",
        "    tiempo_actual += row[\"Tiempo_Estimado\"]  # Se actualiza el tiempo de atención\n",
        "\n",
        "# Convertir resultados en DataFrame y mostrar\n",
        "resultados_df = pd.DataFrame(resultados)\n",
        "\n",
        "# Muestra la tabla con las citas ordenadas y los tiempos de espera de cada usuario.\n",
        "print(\"\\nResultados de la programación de citas:\")\n",
        "print(resultados_df)\n",
        "\n",
        "# Guardar el DataFrame ordenado en un nuevo archivo CSV\n",
        "resultados_df.to_csv(\"datos_ordenados.csv\", index=False)\n",
        "\n",
        "print(\"\\nLos datos ordenados han sido guardados en 'datos_ordenados.csv'.\")\n",
        "\n",
        "\n",
        "\n",
        "\n"
      ]
    }
  ]
}